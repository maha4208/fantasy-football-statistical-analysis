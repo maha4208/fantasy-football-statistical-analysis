{
 "cells": [
  {
   "cell_type": "code",
   "execution_count": 1,
   "metadata": {},
   "outputs": [
    {
     "name": "stdout",
     "output_type": "stream",
     "text": [
      "                      OppPPRFantasyPointsAllowed  PPRSOSRank  \\\n",
      "Team                                                           \n",
      "St. Louis Rams                          20443.76        31.0   \n",
      "Carolina Panthers                       19799.04        30.0   \n",
      "Jacksonville Jaguars                    19632.10        29.0   \n",
      "Tampa Bay Buccaneers                    19523.28        28.0   \n",
      "San Francisco 49ers                     19456.74        27.0   \n",
      "\n",
      "                      OppStandardFantasyPointsAllowed  StandardSOSRank  \\\n",
      "Team                                                                     \n",
      "St. Louis Rams                               15412.76             31.0   \n",
      "Carolina Panthers                            14905.04             30.0   \n",
      "Jacksonville Jaguars                         14775.10             29.0   \n",
      "Tampa Bay Buccaneers                         14349.28             26.0   \n",
      "San Francisco 49ers                          14575.74             28.0   \n",
      "\n",
      "                      OppHalfPPRFantasyPointsAllowed  HalfPPRSOSRank  \\\n",
      "Team                                                                   \n",
      "St. Louis Rams                              17928.26            31.0   \n",
      "Carolina Panthers                           17352.04            30.0   \n",
      "Jacksonville Jaguars                        17203.60            29.0   \n",
      "Tampa Bay Buccaneers                        16936.28            27.0   \n",
      "San Francisco 49ers                         17016.24            28.0   \n",
      "\n",
      "                      OppRushingFantasyPointsAllowed  RushingSOSRank  \\\n",
      "Team                                                                   \n",
      "St. Louis Rams                                3843.6            30.0   \n",
      "Carolina Panthers                             3791.4            28.0   \n",
      "Jacksonville Jaguars                          3915.1            31.0   \n",
      "Tampa Bay Buccaneers                          3510.2            21.0   \n",
      "San Francisco 49ers                           3633.6            24.0   \n",
      "\n",
      "                      OppPassingFantasyPointsAllowed  PassingSOSRank  \\\n",
      "Team                                                                   \n",
      "St. Louis Rams                               3415.76            31.0   \n",
      "Carolina Panthers                            3199.04            30.0   \n",
      "Jacksonville Jaguars                         3184.00            29.0   \n",
      "Tampa Bay Buccaneers                         3060.88            23.0   \n",
      "San Francisco 49ers                          3144.04            27.0   \n",
      "\n",
      "                      OppPPRReceivingFantasyPointsAllowed  \\\n",
      "Team                                                        \n",
      "St. Louis Rams                                    13184.4   \n",
      "Carolina Panthers                                 12808.6   \n",
      "Jacksonville Jaguars                              12533.0   \n",
      "Tampa Bay Buccaneers                              12952.2   \n",
      "San Francisco 49ers                               12679.1   \n",
      "\n",
      "                      PPRReceivingSOSRank  \\\n",
      "Team                                        \n",
      "St. Louis Rams                       31.0   \n",
      "Carolina Panthers                    26.0   \n",
      "Jacksonville Jaguars                 20.0   \n",
      "Tampa Bay Buccaneers                 30.0   \n",
      "San Francisco 49ers                  24.0   \n",
      "\n",
      "                      OppHalfPPRReceivingFantasyPointsAllowed  \\\n",
      "Team                                                            \n",
      "St. Louis Rams                                        10668.9   \n",
      "Carolina Panthers                                     10361.6   \n",
      "Jacksonville Jaguars                                  10104.5   \n",
      "Tampa Bay Buccaneers                                  10365.2   \n",
      "San Francisco 49ers                                   10238.6   \n",
      "\n",
      "                      HalfPPRReceivingSOSRank  \\\n",
      "Team                                            \n",
      "St. Louis Rams                           31.0   \n",
      "Carolina Panthers                        29.0   \n",
      "Jacksonville Jaguars                     22.0   \n",
      "Tampa Bay Buccaneers                     30.0   \n",
      "San Francisco 49ers                      26.0   \n",
      "\n",
      "                      OppStandardReceivingFantasyPointsAllowed  \\\n",
      "Team                                                             \n",
      "St. Louis Rams                                          8153.4   \n",
      "Carolina Panthers                                       7914.6   \n",
      "Jacksonville Jaguars                                    7676.0   \n",
      "Tampa Bay Buccaneers                                    7778.2   \n",
      "San Francisco 49ers                                     7798.1   \n",
      "\n",
      "                      StandardReceivingSOSRank  \n",
      "Team                                            \n",
      "St. Louis Rams                            31.0  \n",
      "Carolina Panthers                         30.0  \n",
      "Jacksonville Jaguars                      25.0  \n",
      "Tampa Bay Buccaneers                      27.0  \n",
      "San Francisco 49ers                       28.0  \n",
      "            Player Pos   Tm  PassingYds  PassingTD  Int  PassingAtt   Cmp  \\\n",
      "0    Lamar Jackson  QB  BAL       324.0        5.0  0.0        20.0  17.0   \n",
      "1     Dak Prescott  QB  DAL       405.0        4.0  0.0        32.0  25.0   \n",
      "2   Robert Griffin  QB  BAL        55.0        1.0  0.0         6.0   6.0   \n",
      "3  Patrick Mahomes  QB  KAN       378.0        3.0  0.0        33.0  25.0   \n",
      "4     Kirk Cousins  QB  MIN        98.0        1.0  0.0        10.0   8.0   \n",
      "\n",
      "   RushingAtt  RushingYds  RushingTD  Rec  Tgt  ReceivingYds  ReceivingTD  \\\n",
      "0         3.0         6.0        0.0  0.0  0.0           0.0          0.0   \n",
      "1         4.0        12.0        0.0  0.0  0.0           0.0          0.0   \n",
      "2         4.0         9.0        0.0  0.0  0.0           0.0          0.0   \n",
      "3         1.0         2.0        0.0  0.0  0.0           0.0          0.0   \n",
      "4         6.0         4.0        1.0  0.0  0.0           0.0          0.0   \n",
      "\n",
      "    FL  PPRFantasyPoints  StandardFantasyPoints  HalfPPRFantasyPoints  \n",
      "0  0.0             33.56                  33.56                 33.56  \n",
      "1  0.0             33.40                  33.40                 33.40  \n",
      "2  0.0              7.10                   7.10                  7.10  \n",
      "3  0.0             27.32                  27.32                 27.32  \n",
      "4  0.0             14.32                  14.32                 14.32  \n",
      "   Unnamed: 0               Player   Tm Pos   Age     G    GS    Tgt    Rec  \\\n",
      "0           0  Christian McCaffrey  CAR  RB  23.0  16.0  16.0  142.0  116.0   \n",
      "1           1        Lamar Jackson  BAL  QB  22.0  15.0  15.0    0.0    0.0   \n",
      "2           2        Derrick Henry  TEN  RB  25.0  15.0  15.0   24.0   18.0   \n",
      "3           3          Aaron Jones  GNB  RB  25.0  16.0  16.0   68.0   49.0   \n",
      "4           4      Ezekiel Elliott  DAL  RB  24.0  16.0  16.0   71.0   54.0   \n",
      "\n",
      "   PassingYds  ...  PassingAtt  RushingYds  RushingTD  RushingAtt  \\\n",
      "0         0.0  ...         2.0      1387.0       15.0       287.0   \n",
      "1      3127.0  ...       401.0      1206.0        7.0       176.0   \n",
      "2         0.0  ...         0.0      1540.0       16.0       303.0   \n",
      "3         0.0  ...         0.0      1084.0       16.0       236.0   \n",
      "4         0.0  ...         0.0      1357.0       12.0       301.0   \n",
      "\n",
      "   ReceivingYds  ReceivingTD  FantasyPoints  Int  Fumbles  FumblesLost  \n",
      "0        1005.0          4.0         469.20  0.0      1.0          0.0  \n",
      "1           0.0          0.0         415.68  6.0      9.0          2.0  \n",
      "2         206.0          2.0         294.60  0.0      5.0          3.0  \n",
      "3         474.0          3.0         314.80  0.0      3.0          2.0  \n",
      "4         420.0          2.0         311.70  0.0      3.0          2.0  \n",
      "\n",
      "[5 rows x 21 columns]\n"
     ]
    }
   ],
   "source": [
    "import matplotlib.pyplot as plt\n",
    "import pandas as pd\n",
    "\n",
    "strengthOfSchedule = pd.read_csv('https://raw.githubusercontent.com/fantasydatapros/data/master/sos/1999.csv', index_col=0)\n",
    "strengthOfSchedule.index = strengthOfSchedule.index.rename('Team')\n",
    "print(strengthOfSchedule.head())\n",
    "\n",
    "weeklyStats = pd.read_csv('https://raw.githubusercontent.com/fantasydatapros/data/master/weekly/2019/week1.csv')\n",
    "print(weeklyStats.head())\n",
    "\n",
    "yearlyStats = pd.read_csv('https://raw.githubusercontent.com/fantasydatapros/data/master/yearly/2019.csv')\n",
    "print(yearlyStats.head())"
   ]
  },
  {
   "cell_type": "code",
   "execution_count": 2,
   "metadata": {},
   "outputs": [
    {
     "data": {
      "text/html": [
       "<div>\n",
       "<style scoped>\n",
       "    .dataframe tbody tr th:only-of-type {\n",
       "        vertical-align: middle;\n",
       "    }\n",
       "\n",
       "    .dataframe tbody tr th {\n",
       "        vertical-align: top;\n",
       "    }\n",
       "\n",
       "    .dataframe thead th {\n",
       "        text-align: right;\n",
       "    }\n",
       "</style>\n",
       "<table border=\"1\" class=\"dataframe\">\n",
       "  <thead>\n",
       "    <tr style=\"text-align: right;\">\n",
       "      <th></th>\n",
       "      <th>Player</th>\n",
       "      <th>Tm</th>\n",
       "      <th>Pos</th>\n",
       "      <th>Age</th>\n",
       "      <th>G</th>\n",
       "      <th>GS</th>\n",
       "      <th>PassingYds</th>\n",
       "      <th>RushingYds</th>\n",
       "      <th>ReceivingYds</th>\n",
       "      <th>FantasyPoints</th>\n",
       "      <th>Year</th>\n",
       "    </tr>\n",
       "  </thead>\n",
       "  <tbody>\n",
       "    <tr>\n",
       "      <th>6</th>\n",
       "      <td>Marvin Harrison</td>\n",
       "      <td>IND</td>\n",
       "      <td>WR</td>\n",
       "      <td>27.0</td>\n",
       "      <td>16.0</td>\n",
       "      <td>16.0</td>\n",
       "      <td>0.0</td>\n",
       "      <td>4.0</td>\n",
       "      <td>1663.0</td>\n",
       "      <td>351.70</td>\n",
       "      <td>1999</td>\n",
       "    </tr>\n",
       "    <tr>\n",
       "      <th>10</th>\n",
       "      <td>Randy Moss</td>\n",
       "      <td>MIN</td>\n",
       "      <td>WR</td>\n",
       "      <td>22.0</td>\n",
       "      <td>16.0</td>\n",
       "      <td>16.0</td>\n",
       "      <td>27.0</td>\n",
       "      <td>43.0</td>\n",
       "      <td>1413.0</td>\n",
       "      <td>294.68</td>\n",
       "      <td>1999</td>\n",
       "    </tr>\n",
       "    <tr>\n",
       "      <th>13</th>\n",
       "      <td>Cris Carter</td>\n",
       "      <td>MIN</td>\n",
       "      <td>WR</td>\n",
       "      <td>34.0</td>\n",
       "      <td>16.0</td>\n",
       "      <td>16.0</td>\n",
       "      <td>0.0</td>\n",
       "      <td>0.0</td>\n",
       "      <td>1241.0</td>\n",
       "      <td>292.10</td>\n",
       "      <td>1999</td>\n",
       "    </tr>\n",
       "    <tr>\n",
       "      <th>14</th>\n",
       "      <td>Jimmy Smith</td>\n",
       "      <td>JAX</td>\n",
       "      <td>WR</td>\n",
       "      <td>30.0</td>\n",
       "      <td>16.0</td>\n",
       "      <td>16.0</td>\n",
       "      <td>0.0</td>\n",
       "      <td>0.0</td>\n",
       "      <td>1636.0</td>\n",
       "      <td>313.60</td>\n",
       "      <td>1999</td>\n",
       "    </tr>\n",
       "    <tr>\n",
       "      <th>15</th>\n",
       "      <td>Marcus Robinson</td>\n",
       "      <td>CHI</td>\n",
       "      <td>WR</td>\n",
       "      <td>24.0</td>\n",
       "      <td>16.0</td>\n",
       "      <td>11.0</td>\n",
       "      <td>0.0</td>\n",
       "      <td>0.0</td>\n",
       "      <td>1400.0</td>\n",
       "      <td>278.00</td>\n",
       "      <td>1999</td>\n",
       "    </tr>\n",
       "  </tbody>\n",
       "</table>\n",
       "</div>"
      ],
      "text/plain": [
       "             Player   Tm Pos   Age     G    GS  PassingYds  RushingYds  \\\n",
       "6   Marvin Harrison  IND  WR  27.0  16.0  16.0         0.0         4.0   \n",
       "10       Randy Moss  MIN  WR  22.0  16.0  16.0        27.0        43.0   \n",
       "13      Cris Carter  MIN  WR  34.0  16.0  16.0         0.0         0.0   \n",
       "14      Jimmy Smith  JAX  WR  30.0  16.0  16.0         0.0         0.0   \n",
       "15  Marcus Robinson  CHI  WR  24.0  16.0  11.0         0.0         0.0   \n",
       "\n",
       "    ReceivingYds  FantasyPoints  Year  \n",
       "6         1663.0         351.70  1999  \n",
       "10        1413.0         294.68  1999  \n",
       "13        1241.0         292.10  1999  \n",
       "14        1636.0         313.60  1999  \n",
       "15        1400.0         278.00  1999  "
      ]
     },
     "execution_count": 2,
     "metadata": {},
     "output_type": "execute_result"
    }
   ],
   "source": [
    "yearlydf = pd.DataFrame()\n",
    "for x in range(1999,2020):\n",
    "    tempdf = pd.read_csv('https://raw.githubusercontent.com/fantasydatapros/data/master/yearly/{}.csv'.format(str(x)))\n",
    "    tempdf['Year'] = x\n",
    "    yearlydf = pd.concat([yearlydf,tempdf])\n",
    "\n",
    "yearlydf.drop(['Unnamed: 0','Tgt','Rec','PassingTD','PassingAtt','RushingTD','RushingAtt','ReceivingTD','Int','Fumbles','FumblesLost'],axis=1,inplace=True)\n",
    "\n",
    "QB_yearlydf = yearlydf.loc[yearlydf['Pos'] == 'QB']\n",
    "QB_yearlydf.head()\n",
    "\n",
    "RB_yearlydf = yearlydf.loc[yearlydf['Pos'] == 'RB']\n",
    "RB_yearlydf.head()\n",
    "\n",
    "WR_yearlydf = yearlydf.loc[yearlydf['Pos'] == 'WR']\n",
    "WR_yearlydf.head()"
   ]
  },
  {
   "cell_type": "code",
   "execution_count": 8,
   "metadata": {},
   "outputs": [
    {
     "name": "stdout",
     "output_type": "stream",
     "text": [
      "          Player Pos   Tm  PassingYds  RushingYds  ReceivingYds  \\\n",
      "0   Mike Tomczak  QB  PIT        78.0         0.0           0.0   \n",
      "2     Dan Marino  QB  MIA       215.0        -1.0           0.0   \n",
      "3   Brad Johnson  QB  WAS       382.0         0.0           0.0   \n",
      "4   Steve McNair  QB  TEN       341.0        27.0           0.0   \n",
      "5  Tony Graziani  QB  ATL        32.0         0.0           0.0   \n",
      "\n",
      "   StandardFantasyPoints  Week  Year  \n",
      "0                  11.12     1  2019  \n",
      "2                  16.50     1  2019  \n",
      "3                  21.28     1  2019  \n",
      "4                  30.34     1  2019  \n",
      "5                   1.28     1  2019  \n",
      "            Player Pos   Tm  PassingYds  RushingYds  ReceivingYds  \\\n",
      "43  Edgerrin James  RB  IND         0.0       112.0          14.0   \n",
      "44     Duce Staley  RB  PHI         0.0       111.0          19.0   \n",
      "45   Stephen Davis  RB  WAS         0.0       109.0           5.0   \n",
      "46    Emmitt Smith  RB  DAL         0.0       109.0          -3.0   \n",
      "47      Ron Rivers  RB  DET         0.0        96.0          39.0   \n",
      "\n",
      "    StandardFantasyPoints  Week  Year  \n",
      "43                   16.6     1  2019  \n",
      "44                   23.0     1  2019  \n",
      "45                   21.4     1  2019  \n",
      "46                   16.6     1  2019  \n",
      "47                   13.5     1  2019  \n",
      "             Player Pos   Tm  PassingYds  RushingYds  ReceivingYds  \\\n",
      "90    Jacquez Green  WR  TAM         0.0        15.0          27.0   \n",
      "91    Rocket Ismail  WR  DAL         0.0        15.0         149.0   \n",
      "99     Bobby Engram  WR  CHI         0.0         9.0          53.0   \n",
      "101  Albert Connell  WR  WAS         0.0         8.0         137.0   \n",
      "107      Randy Moss  WR  MIN         0.0         6.0          24.0   \n",
      "\n",
      "     StandardFantasyPoints  Week  Year  \n",
      "90                     4.2     1  2019  \n",
      "91                    22.4     1  2019  \n",
      "99                     6.2     1  2019  \n",
      "101                   20.5     1  2019  \n",
      "107                    3.0     1  2019  \n",
      "Boxplots for Standard Fantasy Points of Quarter Back, Running Back, and Wide Reciever positions:\n"
     ]
    },
    {
     "data": {
      "image/png": "[encoded data removed]",
      "text/plain": [
       "<Figure size 432x288 with 1 Axes>"
      ]
     },
     "metadata": {
      "needs_background": "light"
     },
     "output_type": "display_data"
    },
    {
     "data": {
      "image/png": "[encoded data removed]",
      "text/plain": [
       "<Figure size 432x288 with 1 Axes>"
      ]
     },
     "metadata": {
      "needs_background": "light"
     },
     "output_type": "display_data"
    },
    {
     "data": {
      "image/png": "[encoded data removed]",
      "text/plain": [
       "<Figure size 432x288 with 1 Axes>"
      ]
     },
     "metadata": {
      "needs_background": "light"
     },
     "output_type": "display_data"
    },
    {
     "name": "stdout",
     "output_type": "stream",
     "text": [
      "Boxplot for passing yards of Quarter Back position\n"
     ]
    },
    {
     "data": {
      "image/png": "[encoded data removed]",
      "text/plain": [
       "<Figure size 432x288 with 1 Axes>"
      ]
     },
     "metadata": {
      "needs_background": "light"
     },
     "output_type": "display_data"
    },
    {
     "name": "stdout",
     "output_type": "stream",
     "text": [
      "Boxplot for rushing yards of Running Back position\n"
     ]
    },
    {
     "data": {
      "image/png": "[encoded data removed]",
      "text/plain": [
       "<Figure size 432x288 with 1 Axes>"
      ]
     },
     "metadata": {
      "needs_background": "light"
     },
     "output_type": "display_data"
    },
    {
     "name": "stdout",
     "output_type": "stream",
     "text": [
      "Boxplot for recieving yards of Wide Reciever position\n"
     ]
    },
    {
     "data": {
      "image/png": "[encoded data removed]",
      "text/plain": [
       "<Figure size 432x288 with 1 Axes>"
      ]
     },
     "metadata": {
      "needs_background": "light"
     },
     "output_type": "display_data"
    }
   ],
   "source": [
    "weekYearDf = pd.DataFrame()\n",
    "for years in range(1999, 2020):\n",
    "    for weeks in range(1, 16):\n",
    "        readFile = (\"https://raw.githubusercontent.com/fantasydatapros/data/master/weekly/\" + str(years) + \"/week\" + str(weeks) + \".csv\")\n",
    "        weeklyDf = pd.read_csv(readFile)\n",
    "        weeklyDf.drop(['Int', 'PassingAtt', 'Cmp', 'RushingAtt', 'PassingTD',\n",
    "                          'RushingTD', 'Rec', 'Tgt', 'ReceivingTD', 'FL',\n",
    "                          'PPRFantasyPoints', 'HalfPPRFantasyPoints'], axis = 1, inplace=True)\n",
    "        weeklyDf['Week'] = weeks\n",
    "        weekYearDf = pd.concat([weekYearDf,weeklyDf])\n",
    "        \n",
    "    weekYearDf['Year'] = years\n",
    "#print(weekYearDf.tail())\n",
    "\n",
    "QB_weekYearDf = weekYearDf.loc[weekYearDf['Pos'] == 'QB']\n",
    "print(QB_weekYearDf.head())\n",
    "\n",
    "RB_weekYearDf = weekYearDf.loc[weekYearDf['Pos'] == 'RB']\n",
    "print(RB_weekYearDf.head())\n",
    "\n",
    "WR_weekYearDf = weekYearDf.loc[weekYearDf['Pos'] == 'WR']\n",
    "print(WR_weekYearDf.head())\n",
    "\n",
    "\n",
    "print(\"Boxplots for Standard Fantasy Points of Quarter Back, Running Back, and Wide Reciever positions:\")\n",
    "plt.boxplot(QB_weekYearDf['StandardFantasyPoints'])\n",
    "plt.show()\n",
    "plt.boxplot(RB_weekYearDf['StandardFantasyPoints'])\n",
    "plt.show()\n",
    "plt.boxplot(WR_weekYearDf['StandardFantasyPoints'])\n",
    "plt.show()\n",
    "\n",
    "print(\"Boxplot for passing yards of Quarter Back position\")\n",
    "plt.boxplot(QB_weekYearDf['PassingYds'])\n",
    "plt.show()\n",
    "print(\"Boxplot for rushing yards of Running Back position\")\n",
    "plt.boxplot(RB_weekYearDf['RushingYds'])\n",
    "plt.show()\n",
    "print(\"Boxplot for recieving yards of Wide Reciever position\")\n",
    "plt.boxplot(WR_weekYearDf['ReceivingYds'])\n",
    "plt.show()\n",
    "\n"
   ]
  },
  {
   "cell_type": "code",
   "execution_count": null,
   "metadata": {},
   "outputs": [],
   "source": []
  }
 ],
 "metadata": {
  "kernelspec": {
   "display_name": "Python 3 (ipykernel)",
   "language": "python",
   "name": "python3"
  },
  "language_info": {
   "codemirror_mode": {
    "name": "ipython",
    "version": 3
   },
   "file_extension": ".py",
   "mimetype": "text/x-python",
   "name": "python",
   "nbconvert_exporter": "python",
   "pygments_lexer": "ipython3",
   "version": "3.10.5"
  }
 },
 "nbformat": 4,
 "nbformat_minor": 4
}
