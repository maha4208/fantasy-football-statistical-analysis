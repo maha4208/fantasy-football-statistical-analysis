{
 "cells": [
  {
   "cell_type": "code",
   "execution_count": 1,
   "metadata": {},
   "outputs": [
    {
     "name": "stdout",
     "output_type": "stream",
     "text": [
      "            Player Pos   Tm  PassingYds  PassingTD  Int  PassingAtt   Cmp  \\\n",
      "0    Lamar Jackson  QB  BAL       324.0        5.0  0.0        20.0  17.0   \n",
      "1     Dak Prescott  QB  DAL       405.0        4.0  0.0        32.0  25.0   \n",
      "2   Robert Griffin  QB  BAL        55.0        1.0  0.0         6.0   6.0   \n",
      "3  Patrick Mahomes  QB  KAN       378.0        3.0  0.0        33.0  25.0   \n",
      "4     Kirk Cousins  QB  MIN        98.0        1.0  0.0        10.0   8.0   \n",
      "\n",
      "   RushingAtt  RushingYds  RushingTD  Rec  Tgt  ReceivingYds  ReceivingTD  \\\n",
      "0         3.0         6.0        0.0  0.0  0.0           0.0          0.0   \n",
      "1         4.0        12.0        0.0  0.0  0.0           0.0          0.0   \n",
      "2         4.0         9.0        0.0  0.0  0.0           0.0          0.0   \n",
      "3         1.0         2.0        0.0  0.0  0.0           0.0          0.0   \n",
      "4         6.0         4.0        1.0  0.0  0.0           0.0          0.0   \n",
      "\n",
      "    FL  PPRFantasyPoints  StandardFantasyPoints  HalfPPRFantasyPoints  \n",
      "0  0.0             33.56                  33.56                 33.56  \n",
      "1  0.0             33.40                  33.40                 33.40  \n",
      "2  0.0              7.10                   7.10                  7.10  \n",
      "3  0.0             27.32                  27.32                 27.32  \n",
      "4  0.0             14.32                  14.32                 14.32  \n"
     ]
    }
   ],
   "source": [
    "import pandas as pd\n",
    "\n",
    "strengthOfSchedule = pd.read_csv('https://raw.githubusercontent.com/fantasydatapros/data/master/sos/1999.csv', index_col=0)\n",
    "strengthOfSchedule.index = strengthOfSchedule.index.rename('Team')\n",
    "print(strengthOfSchedule.head())\n",
    "\n",
    "weeklyStats = pd.read_csv('https://raw.githubusercontent.com/fantasydatapros/data/master/weekly/2019/week1.csv')\n",
    "print(weeklyStats.head())\n",
    "\n",
    "yearlyStats = pd.read_csv('https://raw.githubusercontent.com/fantasydatapros/data/master/yearly/2019.csv')\n",
    "print(yearlyStats.head())"
   ]
  },
  {
   "cell_type": "code",
   "execution_count": null,
   "metadata": {},
   "outputs": [],
   "source": []
  },
  {
   "cell_type": "code",
   "execution_count": null,
   "metadata": {},
   "outputs": [],
   "source": []
  }
 ],
 "metadata": {
  "kernelspec": {
   "display_name": "Python 3 (ipykernel)",
   "language": "python",
   "name": "python3"
  },
  "language_info": {
   "codemirror_mode": {
    "name": "ipython",
    "version": 3
   },
   "file_extension": ".py",
   "mimetype": "text/x-python",
   "name": "python",
   "nbconvert_exporter": "python",
   "pygments_lexer": "ipython3",
   "version": "3.10.5"
  }
 },
 "nbformat": 4,
 "nbformat_minor": 4
}
