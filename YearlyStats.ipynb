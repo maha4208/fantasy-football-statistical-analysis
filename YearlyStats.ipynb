{
 "cells": [
  {
   "cell_type": "code",
   "execution_count": 2,
   "id": "cedcf7fa-d34f-4cde-af88-33ddd1036336",
   "metadata": {},
   "outputs": [
    {
     "name": "stdout",
     "output_type": "stream",
     "text": [
      "                      OppPPRFantasyPointsAllowed  PPRSOSRank  \\\n",
      "Team                                                           \n",
      "St. Louis Rams                          20443.76        31.0   \n",
      "Carolina Panthers                       19799.04        30.0   \n",
      "Jacksonville Jaguars                    19632.10        29.0   \n",
      "Tampa Bay Buccaneers                    19523.28        28.0   \n",
      "San Francisco 49ers                     19456.74        27.0   \n",
      "\n",
      "                      OppStandardFantasyPointsAllowed  StandardSOSRank  \\\n",
      "Team                                                                     \n",
      "St. Louis Rams                               15412.76             31.0   \n",
      "Carolina Panthers                            14905.04             30.0   \n",
      "Jacksonville Jaguars                         14775.10             29.0   \n",
      "Tampa Bay Buccaneers                         14349.28             26.0   \n",
      "San Francisco 49ers                          14575.74             28.0   \n",
      "\n",
      "                      OppHalfPPRFantasyPointsAllowed  HalfPPRSOSRank  \\\n",
      "Team                                                                   \n",
      "St. Louis Rams                              17928.26            31.0   \n",
      "Carolina Panthers                           17352.04            30.0   \n",
      "Jacksonville Jaguars                        17203.60            29.0   \n",
      "Tampa Bay Buccaneers                        16936.28            27.0   \n",
      "San Francisco 49ers                         17016.24            28.0   \n",
      "\n",
      "                      OppRushingFantasyPointsAllowed  RushingSOSRank  \\\n",
      "Team                                                                   \n",
      "St. Louis Rams                                3843.6            30.0   \n",
      "Carolina Panthers                             3791.4            28.0   \n",
      "Jacksonville Jaguars                          3915.1            31.0   \n",
      "Tampa Bay Buccaneers                          3510.2            21.0   \n",
      "San Francisco 49ers                           3633.6            24.0   \n",
      "\n",
      "                      OppPassingFantasyPointsAllowed  PassingSOSRank  \\\n",
      "Team                                                                   \n",
      "St. Louis Rams                               3415.76            31.0   \n",
      "Carolina Panthers                            3199.04            30.0   \n",
      "Jacksonville Jaguars                         3184.00            29.0   \n",
      "Tampa Bay Buccaneers                         3060.88            23.0   \n",
      "San Francisco 49ers                          3144.04            27.0   \n",
      "\n",
      "                      OppPPRReceivingFantasyPointsAllowed  \\\n",
      "Team                                                        \n",
      "St. Louis Rams                                    13184.4   \n",
      "Carolina Panthers                                 12808.6   \n",
      "Jacksonville Jaguars                              12533.0   \n",
      "Tampa Bay Buccaneers                              12952.2   \n",
      "San Francisco 49ers                               12679.1   \n",
      "\n",
      "                      PPRReceivingSOSRank  \\\n",
      "Team                                        \n",
      "St. Louis Rams                       31.0   \n",
      "Carolina Panthers                    26.0   \n",
      "Jacksonville Jaguars                 20.0   \n",
      "Tampa Bay Buccaneers                 30.0   \n",
      "San Francisco 49ers                  24.0   \n",
      "\n",
      "                      OppHalfPPRReceivingFantasyPointsAllowed  \\\n",
      "Team                                                            \n",
      "St. Louis Rams                                        10668.9   \n",
      "Carolina Panthers                                     10361.6   \n",
      "Jacksonville Jaguars                                  10104.5   \n",
      "Tampa Bay Buccaneers                                  10365.2   \n",
      "San Francisco 49ers                                   10238.6   \n",
      "\n",
      "                      HalfPPRReceivingSOSRank  \\\n",
      "Team                                            \n",
      "St. Louis Rams                           31.0   \n",
      "Carolina Panthers                        29.0   \n",
      "Jacksonville Jaguars                     22.0   \n",
      "Tampa Bay Buccaneers                     30.0   \n",
      "San Francisco 49ers                      26.0   \n",
      "\n",
      "                      OppStandardReceivingFantasyPointsAllowed  \\\n",
      "Team                                                             \n",
      "St. Louis Rams                                          8153.4   \n",
      "Carolina Panthers                                       7914.6   \n",
      "Jacksonville Jaguars                                    7676.0   \n",
      "Tampa Bay Buccaneers                                    7778.2   \n",
      "San Francisco 49ers                                     7798.1   \n",
      "\n",
      "                      StandardReceivingSOSRank  \n",
      "Team                                            \n",
      "St. Louis Rams                            31.0  \n",
      "Carolina Panthers                         30.0  \n",
      "Jacksonville Jaguars                      25.0  \n",
      "Tampa Bay Buccaneers                      27.0  \n",
      "San Francisco 49ers                       28.0  \n",
      "            Player Pos   Tm  PassingYds  PassingTD  Int  PassingAtt   Cmp  \\\n",
      "0    Lamar Jackson  QB  BAL       324.0        5.0  0.0        20.0  17.0   \n",
      "1     Dak Prescott  QB  DAL       405.0        4.0  0.0        32.0  25.0   \n",
      "2   Robert Griffin  QB  BAL        55.0        1.0  0.0         6.0   6.0   \n",
      "3  Patrick Mahomes  QB  KAN       378.0        3.0  0.0        33.0  25.0   \n",
      "4     Kirk Cousins  QB  MIN        98.0        1.0  0.0        10.0   8.0   \n",
      "\n",
      "   RushingAtt  RushingYds  RushingTD  Rec  Tgt  ReceivingYds  ReceivingTD  \\\n",
      "0         3.0         6.0        0.0  0.0  0.0           0.0          0.0   \n",
      "1         4.0        12.0        0.0  0.0  0.0           0.0          0.0   \n",
      "2         4.0         9.0        0.0  0.0  0.0           0.0          0.0   \n",
      "3         1.0         2.0        0.0  0.0  0.0           0.0          0.0   \n",
      "4         6.0         4.0        1.0  0.0  0.0           0.0          0.0   \n",
      "\n",
      "    FL  PPRFantasyPoints  StandardFantasyPoints  HalfPPRFantasyPoints  \n",
      "0  0.0             33.56                  33.56                 33.56  \n",
      "1  0.0             33.40                  33.40                 33.40  \n",
      "2  0.0              7.10                   7.10                  7.10  \n",
      "3  0.0             27.32                  27.32                 27.32  \n",
      "4  0.0             14.32                  14.32                 14.32  \n",
      "   Unnamed: 0               Player   Tm Pos   Age     G    GS    Tgt    Rec  \\\n",
      "0           0  Christian McCaffrey  CAR  RB  23.0  16.0  16.0  142.0  116.0   \n",
      "1           1        Lamar Jackson  BAL  QB  22.0  15.0  15.0    0.0    0.0   \n",
      "2           2        Derrick Henry  TEN  RB  25.0  15.0  15.0   24.0   18.0   \n",
      "3           3          Aaron Jones  GNB  RB  25.0  16.0  16.0   68.0   49.0   \n",
      "4           4      Ezekiel Elliott  DAL  RB  24.0  16.0  16.0   71.0   54.0   \n",
      "\n",
      "   PassingYds  ...  PassingAtt  RushingYds  RushingTD  RushingAtt  \\\n",
      "0         0.0  ...         2.0      1387.0       15.0       287.0   \n",
      "1      3127.0  ...       401.0      1206.0        7.0       176.0   \n",
      "2         0.0  ...         0.0      1540.0       16.0       303.0   \n",
      "3         0.0  ...         0.0      1084.0       16.0       236.0   \n",
      "4         0.0  ...         0.0      1357.0       12.0       301.0   \n",
      "\n",
      "   ReceivingYds  ReceivingTD  FantasyPoints  Int  Fumbles  FumblesLost  \n",
      "0        1005.0          4.0         469.20  0.0      1.0          0.0  \n",
      "1           0.0          0.0         415.68  6.0      9.0          2.0  \n",
      "2         206.0          2.0         294.60  0.0      5.0          3.0  \n",
      "3         474.0          3.0         314.80  0.0      3.0          2.0  \n",
      "4         420.0          2.0         311.70  0.0      3.0          2.0  \n",
      "\n",
      "[5 rows x 21 columns]\n"
     ]
    }
   ],
   "source": [
    "import pandas as pd\n",
    "import matplotlib.pyplot as plt\n",
    "import numpy as np\n",
    "\n",
    "strengthOfSchedule = pd.read_csv('https://raw.githubusercontent.com/fantasydatapros/data/master/sos/1999.csv', index_col=0)\n",
    "strengthOfSchedule.index = strengthOfSchedule.index.rename('Team')\n",
    "print(strengthOfSchedule.head())\n",
    "\n",
    "weeklyStats = pd.read_csv('https://raw.githubusercontent.com/fantasydatapros/data/master/weekly/2019/week1.csv')\n",
    "print(weeklyStats.head())\n",
    "\n",
    "yearlyStats = pd.read_csv('https://raw.githubusercontent.com/fantasydatapros/data/master/yearly/2019.csv')\n",
    "print(yearlyStats.head())"
   ]
  },
  {
   "cell_type": "code",
   "execution_count": 3,
   "id": "37a096cd-e4ad-4854-8974-d0bcb2410cd7",
   "metadata": {},
   "outputs": [
    {
     "data": {
      "text/plain": [
       "Text(0, 0.5, 'Annual Fantasy Points')"
      ]
     },
     "execution_count": 3,
     "metadata": {},
     "output_type": "execute_result"
    },
    {
     "data": {
      "image/png": "[encoded data removed]",
      "text/plain": [
       "<Figure size 432x288 with 1 Axes>"
      ]
     },
     "metadata": {
      "needs_background": "light"
     },
     "output_type": "display_data"
    }
   ],
   "source": [
    "yearlydf = pd.DataFrame()\n",
    "for x in range(1999,2020):\n",
    "    tempdf = pd.read_csv('https://raw.githubusercontent.com/fantasydatapros/data/master/yearly/{}.csv'.format(str(x)))\n",
    "    tempdf['Year'] = x\n",
    "    yearlydf = pd.concat([yearlydf,tempdf])\n",
    "\n",
    "yearlydf.drop(['Unnamed: 0','Tgt','Rec','PassingTD','PassingAtt','RushingTD','RushingAtt','ReceivingTD','Int','Fumbles','FumblesLost'],axis=1,inplace=True)\n",
    "\n",
    "QB_yearlydf = yearlydf.loc[yearlydf['Pos'] == 'QB']\n",
    "RB_yearlydf = yearlydf.loc[yearlydf['Pos'] == 'RB']\n",
    "WR_yearlydf = yearlydf.loc[yearlydf['Pos'] == 'WR']\n",
    "plt.boxplot([QB_yearlydf['FantasyPoints'],RB_yearlydf['FantasyPoints'], WR_yearlydf['FantasyPoints']])\n",
    "plt.title('Boxplot of Fantasy Points Broken Up by Position')\n",
    "plt.xlabel('1: QB, 2: RB, 3: WR')\n",
    "plt.ylabel('Annual Fantasy Points')"
   ]
  },
  {
   "cell_type": "code",
   "execution_count": 4,
   "id": "3527d862-569c-4ad2-bf0b-fd91a76a1472",
   "metadata": {},
   "outputs": [
    {
     "data": {
      "text/plain": [
       "Text(0, 0.5, 'Annual Yards')"
      ]
     },
     "execution_count": 4,
     "metadata": {},
     "output_type": "execute_result"
    },
    {
     "data": {
      "image/png": "[encoded data removed]",
      "text/plain": [
       "<Figure size 432x288 with 1 Axes>"
      ]
     },
     "metadata": {
      "needs_background": "light"
     },
     "output_type": "display_data"
    }
   ],
   "source": [
    "plt.boxplot([QB_yearlydf['PassingYds'],RB_yearlydf['RushingYds'], WR_yearlydf['ReceivingYds']])\n",
    "plt.title('Boxplot of Yards Broken Up by Position')\n",
    "plt.xlabel('1: QB, 2: RB, 3: WR')\n",
    "plt.ylabel('Annual Yards')"
   ]
  },
  {
   "cell_type": "code",
   "execution_count": 5,
   "id": "a24290c0-89f4-4d48-9aff-d3701a828b03",
   "metadata": {},
   "outputs": [
    {
     "data": {
      "text/plain": [
       "Text(0, 0.5, 'Number of Players in Each Bucket')"
      ]
     },
     "execution_count": 5,
     "metadata": {},
     "output_type": "execute_result"
    },
    {
     "data": {
      "image/png": "[encoded data removed]",
      "text/plain": [
       "<Figure size 432x288 with 1 Axes>"
      ]
     },
     "metadata": {
      "needs_background": "light"
     },
     "output_type": "display_data"
    }
   ],
   "source": [
    "plt.hist(yearlydf['FantasyPoints'])\n",
    "plt.title('Histogram of Annual Fantasy Points - All Positions')\n",
    "plt.xlabel('Points Scored in One Season')\n",
    "plt.ylabel('Number of Players in Each Bucket')"
   ]
  },
  {
   "cell_type": "code",
   "execution_count": 8,
   "id": "3aa59554-deaa-42e9-aeb5-a59a63a62bb9",
   "metadata": {},
   "outputs": [
    {
     "data": {
      "text/plain": [
       "35156"
      ]
     },
     "execution_count": 8,
     "metadata": {},
     "output_type": "execute_result"
    }
   ],
   "source": [
    "yearlydf.size"
   ]
  },
  {
   "cell_type": "code",
   "execution_count": 18,
   "id": "ae223484-cb5e-4f86-a656-3ad46d615f7f",
   "metadata": {},
   "outputs": [
    {
     "data": {
      "text/plain": [
       "Text(0, 0.5, 'Number of Players in Each Bucket')"
      ]
     },
     "execution_count": 18,
     "metadata": {},
     "output_type": "execute_result"
    },
    {
     "data": {
      "image/png": "[encoded data removed]",
      "text/plain": [
       "<Figure size 432x288 with 1 Axes>"
      ]
     },
     "metadata": {
      "needs_background": "light"
     },
     "output_type": "display_data"
    }
   ],
   "source": [
    "yearlydf_trim = yearlydf.loc[yearlydf['GS'] > 11]\n",
    "plt.hist(yearlydf_trim['FantasyPoints'])\n",
    "plt.title('Trimmed Histogram of Annual Fantasy Points - All Positions')\n",
    "plt.xlabel('Points Scored in One Season')\n",
    "plt.ylabel('Number of Players in Each Bucket')"
   ]
  }
 ],
 "metadata": {
  "kernelspec": {
   "display_name": "Python 3 (ipykernel)",
   "language": "python",
   "name": "python3"
  },
  "language_info": {
   "codemirror_mode": {
    "name": "ipython",
    "version": 3
   },
   "file_extension": ".py",
   "mimetype": "text/x-python",
   "name": "python",
   "nbconvert_exporter": "python",
   "pygments_lexer": "ipython3",
   "version": "3.10.5"
  }
 },
 "nbformat": 4,
 "nbformat_minor": 5
}
