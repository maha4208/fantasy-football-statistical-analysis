{
 "cells": [
  {
   "cell_type": "code",
   "execution_count": 24,
   "id": "c30fab9e-e102-4d95-9105-aef73aa17063",
   "metadata": {},
   "outputs": [
    {
     "name": "stdout",
     "output_type": "stream",
     "text": [
      "               Player                     Tm  FantasyPoints  Year\n",
      "0      Marshall Faulk                    STL         397.90  1999\n",
      "1      Edgerrin James     Indianapolis Colts         369.90  1999\n",
      "2         Kurt Warner                    STL         317.32  1999\n",
      "3       Stephen Davis  Washington Commanders         274.60  1999\n",
      "4        Eddie George       Tennessee Titans         293.20  1999\n",
      "..                ...                    ...            ...   ...\n",
      "615   Ray-Ray McCloud      Carolina Panthers          -2.00  2019\n",
      "616  Darrius Shepherd      Green Bay Packers          -0.90  2019\n",
      "617   Jarrett Stidham   New England Patriots          -1.64  2019\n",
      "618    Michael Walker   Jacksonville Jaguars          -0.50  2019\n",
      "619     Corey Clement    Philadelphia Eagles          -4.00  2019\n",
      "\n",
      "[12462 rows x 4 columns]\n"
     ]
    }
   ],
   "source": [
    "import pandas as pd\n",
    "import matplotlib.pyplot as plt\n",
    "import numpy as np\n",
    "import math as math\n",
    "import scipy.stats as stats\n",
    "import statsmodels.api as sm\n",
    "\n",
    "yearlyDf = pd.DataFrame()\n",
    "for x in range(1999,2020):\n",
    "    tempdf = pd.read_csv('https://raw.githubusercontent.com/fantasydatapros/data/master/yearly/{}.csv'.format(str(x)))\n",
    "    tempdf['Year'] = x\n",
    "    yearlyDf = pd.concat([yearlyDf,tempdf])\n",
    "    yearlyDf['Tm'] = yearlyDf['Tm'].replace(['ARI'], 'Arizona Cardinals')\n",
    "    yearlyDf['Tm'] = yearlyDf['Tm'].replace(['ATL'], 'Atlanta Falcons')\n",
    "    yearlyDf['Tm'] = yearlyDf['Tm'].replace(['BAL'], 'Baltimore Ravens')\n",
    "    yearlyDf['Tm'] = yearlyDf['Tm'].replace(['BUF'], 'Buffalo Bills')\n",
    "    yearlyDf['Tm'] = yearlyDf['Tm'].replace(['CAR'], 'Carolina Panthers')\n",
    "    yearlyDf['Tm'] = yearlyDf['Tm'].replace(['CHI'], 'Chicago Bears')\n",
    "    yearlyDf['Tm'] = yearlyDf['Tm'].replace(['CIN'], 'Cincinnati Bengals')\n",
    "    yearlyDf['Tm'] = yearlyDf['Tm'].replace(['CLE'], 'Cleveland Browns')\n",
    "    yearlyDf['Tm'] = yearlyDf['Tm'].replace(['DAL'], 'Dallas Cowboys')\n",
    "    yearlyDf['Tm'] = yearlyDf['Tm'].replace(['DEN'], 'Denver Broncos')\n",
    "    \n",
    "    yearlyDf['Tm'] = yearlyDf['Tm'].replace(['DET'], 'Detroit Lions')\n",
    "    yearlyDf['Tm'] = yearlyDf['Tm'].replace(['GNB'], 'Green Bay Packers')\n",
    "    yearlyDf['Tm'] = yearlyDf['Tm'].replace(['HOU'], 'Houston Texans')\n",
    "    yearlyDf['Tm'] = yearlyDf['Tm'].replace(['IND'], 'Indianapolis Colts')\n",
    "    yearlyDf['Tm'] = yearlyDf['Tm'].replace(['JAX'], 'Jacksonville Jaguars')\n",
    "    \n",
    "    yearlyDf['Tm'] = yearlyDf['Tm'].replace(['KAN'], 'Kansas City Chiefs')\n",
    "    yearlyDf['Tm'] = yearlyDf['Tm'].replace(['MIA'], 'Miami Dolphins')\n",
    "    yearlyDf['Tm'] = yearlyDf['Tm'].replace(['MIN'], 'Minnesota Vikings')\n",
    "    yearlyDf['Tm'] = yearlyDf['Tm'].replace(['NWE'], 'New England Patriots')\n",
    "    yearlyDf['Tm'] = yearlyDf['Tm'].replace(['NOR'], 'New Orleans Saints')\n",
    "    \n",
    "    yearlyDf['Tm'] = yearlyDf['Tm'].replace(['NYG'], 'New York Giants')\n",
    "    yearlyDf['Tm'] = yearlyDf['Tm'].replace(['NYJ'], 'New York Jets')\n",
    "    yearlyDf['Tm'] = yearlyDf['Tm'].replace(['OAK'], 'Oakland Raiders')\n",
    "    yearlyDf['Tm'] = yearlyDf['Tm'].replace(['PHI'], 'Philadelphia Eagles')\n",
    "    yearlyDf['Tm'] = yearlyDf['Tm'].replace(['PIT'], 'Pittsburgh Steelers')\n",
    "    \n",
    "    yearlyDf['Tm'] = yearlyDf['Tm'].replace(['LAC'], 'Los Angeles Chargers')\n",
    "    yearlyDf['Tm'] = yearlyDf['Tm'].replace(['SFO'], 'San Francisco 49ers')\n",
    "    yearlyDf['Tm'] = yearlyDf['Tm'].replace(['SEA'], 'Seattle Seahawks')\n",
    "    yearlyDf['Tm'] = yearlyDf['Tm'].replace(['LAR'], 'Los Angeles Rams')\n",
    "    yearlyDf['Tm'] = yearlyDf['Tm'].replace(['TAM'], 'Tampa Bay Buccaneers')\n",
    "    \n",
    "    yearlyDf['Tm'] = yearlyDf['Tm'].replace(['TEN'], 'Tennessee Titans')\n",
    "    yearlyDf['Tm'] = yearlyDf['Tm'].replace(['WAS'], 'Washington Commanders')\n",
    "\n",
    "yearlyDf.drop(['Unnamed: 0', 'Age', 'Pos', 'PassingYds', 'RushingYds', 'ReceivingYds', 'GS', 'G', 'Tgt','Rec','PassingTD','PassingAtt','RushingTD','RushingAtt','ReceivingTD','Int','Fumbles','FumblesLost'],axis=1,inplace=True)\n",
    "\n",
    "print(yearlyDf)\n",
    "\n"
   ]
  },
  {
   "cell_type": "code",
   "execution_count": 17,
   "id": "4d55f7b3-81cf-427d-9e6b-d0bb946e4173",
   "metadata": {},
   "outputs": [
    {
     "name": "stdout",
     "output_type": "stream",
     "text": [
      "                   Team  StandardSOSRank  Year\n",
      "0        St. Louis Rams             31.0  1999\n",
      "1     Carolina Panthers             30.0  1999\n",
      "2  Jacksonville Jaguars             29.0  1999\n",
      "3  Tampa Bay Buccaneers             26.0  1999\n",
      "4   San Francisco 49ers             28.0  1999\n"
     ]
    }
   ],
   "source": [
    "sosDf = pd.DataFrame()\n",
    "for x in range(1999,2020):\n",
    "    tempdf2 = pd.read_csv('https://raw.githubusercontent.com/fantasydatapros/data/master/sos/{}.csv'.format(str(x)))\n",
    "    tempdf2['Year'] = x\n",
    "    sosDf = pd.concat([sosDf,tempdf2])\n",
    "\n",
    "sosDf.drop(['OppPPRFantasyPointsAllowed', 'PPRSOSRank', 'OppStandardFantasyPointsAllowed', 'OppHalfPPRFantasyPointsAllowed', 'HalfPPRSOSRank', 'OppRushingFantasyPointsAllowed', 'RushingSOSRank', 'OppPassingFantasyPointsAllowed', 'PassingSOSRank', 'OppPPRReceivingFantasyPointsAllowed', 'PPRReceivingSOSRank', 'OppHalfPPRReceivingFantasyPointsAllowed', 'HalfPPRReceivingSOSRank', 'OppStandardReceivingFantasyPointsAllowed', 'StandardReceivingSOSRank'], axis=1,inplace=True) \n",
    "sosDf.rename(columns = {'Unnamed: 0':'Team'}, inplace = True)\n",
    "print(sosDf.head())\n"
   ]
  },
  {
   "cell_type": "code",
   "execution_count": 38,
   "id": "e9161dff-acb2-410d-bdfc-3155fc058ffc",
   "metadata": {},
   "outputs": [],
   "source": [
    "for x in range(0, 2):\n",
    "    checkYearName = yearlyDf.loc[x, 'Tm']\n",
    "    for y in range(0, 2):\n",
    "        checkSOSName = sosDf.loc[y, 'Team']\n",
    "        if str(checkYearName) == str(checkSOSName):\n",
    "            print(\"test\")\n",
    "        #if(yearlyDf.loc[x, 'Tm'] == sosDf.loc[y, 'Team']): #sosDf.loc[y].at[\"Team\"]):\n",
    "            #print(\"test\")\n",
    "        "
   ]
  },
  {
   "cell_type": "code",
   "execution_count": null,
   "id": "a1c47def-3b89-476f-b126-13046fdbf32e",
   "metadata": {},
   "outputs": [],
   "source": []
  }
 ],
 "metadata": {
  "kernelspec": {
   "display_name": "Python 3 (ipykernel)",
   "language": "python",
   "name": "python3"
  },
  "language_info": {
   "codemirror_mode": {
    "name": "ipython",
    "version": 3
   },
   "file_extension": ".py",
   "mimetype": "text/x-python",
   "name": "python",
   "nbconvert_exporter": "python",
   "pygments_lexer": "ipython3",
   "version": "3.10.5"
  }
 },
 "nbformat": 4,
 "nbformat_minor": 5
}
